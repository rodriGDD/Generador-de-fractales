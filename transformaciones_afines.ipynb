{
 "cells": [
  {
   "cell_type": "markdown",
   "metadata": {},
   "source": [
    "# Generador de fractales a través de transformaciones afines\n",
    "\n",
    "Este código te permitirá obtener representaciones gráficas de varios fractales. Algunos de ellos quizá los conozcas de clase.\n",
    "\n",
    "El algoritmo computacional de generación de fractales se basa en el conocido como juego del caos, el cual utiliza las transformaciones afines que has estudiado para ir representando puntos que pertenecen al fractal.\n",
    "\n",
    "Puedes modificar el número de puntos representados variando el parámetro $n$, pero ten en cuenta que el programa tardará más tiempo en generar la imagen.\n",
    "\n",
    "Además, el código también hace una estimación de la dimensión fractal del objeto obtenido mediante el algoritmo del box-counting."
   ]
  },
  {
   "cell_type": "markdown",
   "metadata": {},
   "source": [
    "### Cómo usar el programa\n",
    "\n",
    "1. Haz clic en la pestaña de \"Entorno de ejecución\" y posteriormente pulsa sobre \"Ejecutar todas\".\n",
    "2. Observarás que aparece el mensaje \"¿Qué fractal quieres generar?\", escribe una de las siguientes opciones:\n",
    "    - Barnsley fern\n",
    "    - Sierpinski triangle\n",
    "    - Sierpinski pentagon\n",
    "    - Fire dragon\n",
    "    - Heighway dragon\n",
    "    - Levy dragon\n",
    "    - Snowflake\n",
    "    - Koch curve\n",
    "    - Binary tree\n",
    "    - Vicsek fractal\n",
    "3. A continuación, aparecerá otro mensaje, esta vez \"Elige el parámetro $n$\". Escribe el número de iteraciones que quieres realice el programa o pulsa la tecla \"enter\" para que se utilice el valor predeterminado $n=1000000$.\n",
    "4. Aparecerá una barra de progreso, cuando llegue al 100% mira debajo de la pestaña \"resultado\" para ver la imagen generada (si has escogido el valor predeterminado de $n$ el programa no debería de tardar más de dos minutos en generar la imagen y estimar la dimensión fractal)."
   ]
  },
  {
   "cell_type": "markdown",
   "metadata": {},
   "source": [
    "#### Desplegar para ver paquetes empleados"
   ]
  },
  {
   "cell_type": "code",
   "execution_count": null,
   "metadata": {},
   "outputs": [],
   "source": [
    "import numpy as np\n",
    "import matplotlib.pyplot as plt\n",
    "import matplotlib.animation as animation\n",
    "import scipy as scipy\n",
    "from math import *\n",
    "from tqdm import tqdm\n",
    "import matplotlib.cm as cm\n",
    "import matplotlib.colors as colors\n",
    "import matplotlib as mpl\n",
    "from mpl_toolkits.mplot3d import Axes3D\n",
    "import matplotlib.gridspec as gridspec\n",
    "import os\n",
    "import sys"
   ]
  },
  {
   "cell_type": "markdown",
   "metadata": {},
   "source": [
    "# <h>"
   ]
  },
  {
   "cell_type": "code",
   "execution_count": null,
   "metadata": {},
   "outputs": [],
   "source": [
    "name = input('¿Qué fractal quieres generar?')"
   ]
  },
  {
   "cell_type": "code",
   "execution_count": null,
   "metadata": {},
   "outputs": [],
   "source": [
    "n = input(r'Elige el parámetro n (dale a Enter para elegir el valor predeterminado)')"
   ]
  },
  {
   "cell_type": "markdown",
   "metadata": {},
   "source": [
    "### Desplegar para ver código"
   ]
  },
  {
   "cell_type": "markdown",
   "metadata": {},
   "source": [
    "Trasformaciones afines y sus parámetros para cada fractal"
   ]
  },
  {
   "cell_type": "code",
   "execution_count": null,
   "metadata": {},
   "outputs": [],
   "source": [
    "def transf_1(x_0,y_0):\n",
    "    v_0 = np.array([[x_0],[y_0]])\n",
    "    A_1 = np.array([[a[0],b[0]],\n",
    "                    [c[0],d[0]]])\n",
    "    b_1 = np.array([[e[0]],[f[0]]])\n",
    "    return np.reshape(np.matmul(A_1,v_0)+b_1,(1,2))\n",
    "def transf_2(x_0,y_0):\n",
    "    v_0 = np.array([[x_0],[y_0]])\n",
    "    A_2 = np.array([[a[1],b[1]],\n",
    "                    [c[1],d[1]]])\n",
    "    b_2 = np.array([[e[1]],[f[1]]])\n",
    "    return np.reshape(np.matmul(A_2,v_0)+b_2,(1,2))\n",
    "def transf_3(x_0,y_0):\n",
    "    v_0 = np.array([[x_0],[y_0]])\n",
    "    A_3 = np.array([[a[2],b[2]],\n",
    "                    [c[2],d[2]]])\n",
    "    b_3 = np.array([[e[2]],[f[2]]])\n",
    "    return np.reshape(np.matmul(A_3,v_0)+b_3,(1,2))\n",
    "def transf_4(x_0,y_0):\n",
    "    v_0 = np.array([[x_0],[y_0]])\n",
    "    A_4 = np.array([[a[3],b[3]],\n",
    "                    [c[3],d[3]]])\n",
    "    b_4 = np.array([[e[3]],[f[3]]])\n",
    "    return np.reshape(np.matmul(A_4,v_0)+b_4,(1,2))\n",
    "def transf_5(x_0,y_0):\n",
    "    v_0 = np.array([[x_0],[y_0]])\n",
    "    A_5 = np.array([[a[4],b[4]],\n",
    "                    [c[4],d[4]]])\n",
    "    b_5 = np.array([[e[4]],[f[4]]])\n",
    "    return np.reshape(np.matmul(A_5,v_0)+b_5,(1,2))"
   ]
  },
  {
   "cell_type": "code",
   "execution_count": null,
   "metadata": {},
   "outputs": [],
   "source": [
    "if name == 'Barnsley fern':\n",
    "    a = [0,0.85,0.2,-0.15]\n",
    "    b = [0,0.04,-0.26,0.28]\n",
    "    c = [0,-0.04,0.23,0.26]\n",
    "    d = [0.16,0.85,0.22,0.24]\n",
    "    e = [0,0,0,0]\n",
    "    f = [0,1.6,1.6,0.44]\n",
    "    p = [0.01,0.85,0.07,0.07]\n",
    "  \n",
    "    transf = [transf_1,transf_2,transf_3,transf_4]"
   ]
  },
  {
   "cell_type": "code",
   "execution_count": null,
   "metadata": {},
   "outputs": [],
   "source": [
    "if name == 'Fire dragon':    \n",
    "    a = [0.5,0.5,0.5]\n",
    "    b = [0,0.2,-0.2]\n",
    "    c = [0,-0.2,0.2]\n",
    "    d = [0.8,0.5,0.5]\n",
    "    e = [0,-100,100]\n",
    "    f = [50,-100,-100]\n",
    "    p = [1/3,1/3,1/3]\n",
    "\n",
    "    transf = [transf_1,transf_2,transf_3]"
   ]
  },
  {
   "cell_type": "code",
   "execution_count": null,
   "metadata": {},
   "outputs": [],
   "source": [
    "if name == 'Sierpinski triangle':   \n",
    "    a = [0.5,0.5,0.5]\n",
    "    b = [0,0,0]\n",
    "    c = [0,0,0]\n",
    "    d = [0.5,0.5,0.5]\n",
    "    e = [0,0.5,0.25]\n",
    "    f = [0,0,np.sqrt(3)/4]\n",
    "    p = [1/3,1/3,1/3]\n",
    "\n",
    "    transf = [transf_1,transf_2,transf_3]"
   ]
  },
  {
   "cell_type": "code",
   "execution_count": null,
   "metadata": {},
   "outputs": [],
   "source": [
    "if name == 'Sierpinski pentagon':\n",
    "    r = (3-np.sqrt(5))/2\n",
    "    a = [r,r,r,r,r]\n",
    "    b = [0,0,0,0,0]\n",
    "    c = [0,0,0,0,0]\n",
    "    d = [r,r,r,r,r]\n",
    "    e = [0,0.618,0.809,0.309,-0.191]\n",
    "    f = [0,0,0.588,0.951,0.588]\n",
    "    p = [1/5,1/5,1/5,1/5,1/5]\n",
    "\n",
    "    transf = [transf_1,transf_2,transf_3,transf_4,transf_5]"
   ]
  },
  {
   "cell_type": "code",
   "execution_count": null,
   "metadata": {},
   "outputs": [],
   "source": [
    "if name == 'Heighway dragon':    \n",
    "    a = [0.5,-0.5]\n",
    "    b = [-0.5,-0.5]\n",
    "    c = [0.5,0.5]\n",
    "    d = [0.5,-0.5]\n",
    "    e = [0,1]\n",
    "    f = [0,0]\n",
    "    p = [1/2,1/2]\n",
    "\n",
    "    transf = [transf_1,transf_2]"
   ]
  },
  {
   "cell_type": "code",
   "execution_count": null,
   "metadata": {},
   "outputs": [],
   "source": [
    "if name == 'Levy dragon':\n",
    "    a = [0.5,0.5]\n",
    "    b = [-0.5,0.5]\n",
    "    c = [0.5,-0.5]\n",
    "    d = [0.5,0.5]\n",
    "    e = [0,0.5]\n",
    "    f = [0,0.5]\n",
    "    p = [1/2,1/2]\n",
    "\n",
    "    transf = [transf_1,transf_2]"
   ]
  },
  {
   "cell_type": "code",
   "execution_count": null,
   "metadata": {},
   "outputs": [],
   "source": [
    "if name == 'Snowflake':\n",
    "    a = [0.4,0.4,0.4,0.4]\n",
    "    b = [0,0,-0.5,0.5]\n",
    "    c = [0,0,0.5,-0.5]\n",
    "    d = [0.4,0.4,0.4,0.4]\n",
    "    e = [-160,160,0,0]\n",
    "    f = [0,0,0,0]\n",
    "    p = [0.25,0.25,0.25,0.25]\n",
    "\n",
    "    transf = [transf_1,transf_2,transf_3,transf_4]"
   ]
  },
  {
   "cell_type": "code",
   "execution_count": null,
   "metadata": {},
   "outputs": [],
   "source": [
    "if name == 'Koch curve':\n",
    "    a = [1/3,1/3,1/6,1/6]\n",
    "    b = [0,0,-np.sqrt(3)/6,np.sqrt(3)/6]\n",
    "    c = [0,0,np.sqrt(3)/6,-np.sqrt(3)/6]\n",
    "    d = [1/3,1/3,1/6,1/6]\n",
    "    e = [0,2/3,1/3,1/2]\n",
    "    f = [0,0,0,np.sqrt(3)/6]\n",
    "    p = [0.25,0.25,0.25,0.25]\n",
    "\n",
    "    transf = [transf_1,transf_2,transf_3,transf_4]"
   ]
  },
  {
   "cell_type": "code",
   "execution_count": null,
   "metadata": {},
   "outputs": [],
   "source": [
    "if name == 'Binary tree':\n",
    "    r = float(input('Elige factor de escala'))\n",
    "    theta = float(input('Elige ángulo de rotación'))\n",
    "\n",
    "    a = [r*np.cos(theta),r*np.cos(theta),1]\n",
    "    b = [-r*np.sin(theta),r*np.sin(theta),0]\n",
    "    c = [r*np.sin(theta),-r*np.sin(theta),0]\n",
    "    d = [r*np.cos(theta),r*np.cos(theta),1]\n",
    "    e = [0,0,0]\n",
    "    f = [1,1,0]\n",
    "    p = [1/3,1/3,1/3]\n",
    "\n",
    "    transf = [transf_1,transf_2,transf_3]"
   ]
  },
  {
   "cell_type": "code",
   "execution_count": null,
   "metadata": {},
   "outputs": [],
   "source": [
    "if name == 'Vicsek fractal':\n",
    "\n",
    "    r = 1/3\n",
    "\n",
    "    a = [r,r,r,r,r]\n",
    "    b = [0,0,0,0,0]\n",
    "    c = [0,0,0,0,0]\n",
    "    d = [r,r,r,r,r]\n",
    "    e = [0,0,2/3,2/3,1/3]\n",
    "    f = [0,2/3,0,2/3,1/3]\n",
    "    p = [1/5,1/5,1/5,1/5,1/5]\n",
    "\n",
    "    transf = [transf_1,transf_2,transf_3,transf_4,transf_5]"
   ]
  },
  {
   "cell_type": "markdown",
   "metadata": {},
   "source": [
    "Función que genera el fractal"
   ]
  },
  {
   "cell_type": "code",
   "execution_count": null,
   "metadata": {},
   "outputs": [],
   "source": [
    "def generate_fractal(n=1000000,x_0=0.,y_0=0.):\n",
    "    fractal = np.zeros([n,2])\n",
    "    fractal[0] = [x_0, y_0]\n",
    "    \n",
    "    for i in tqdm(range(n-1)):\n",
    "        random_transformation = np.random.choice(transf, p=p)\n",
    "        current_point = random_transformation(fractal[i,0],fractal[i,1])\n",
    "        fractal[i+1] = current_point\n",
    "    return fractal"
   ]
  },
  {
   "cell_type": "markdown",
   "metadata": {},
   "source": [
    "Función que calcula la dimensión fractal"
   ]
  },
  {
   "cell_type": "code",
   "execution_count": null,
   "metadata": {},
   "outputs": [],
   "source": [
    "def FractalDimension(x,y): # Función que calcula la dimensión fractal de una imagen\n",
    "    fig = plt.figure()\n",
    "    plt.plot(x, y,',',color='red')\n",
    "    plt.axis('off')\n",
    "    #plt.xlim([min(xp)-0.1,max(xp)])\n",
    "    #plt.ylim([min(vp)-0.1,max(vp)])\n",
    "    plt.savefig('df'+'.png', transparent=True)\n",
    "    plt.close(fig)\n",
    "    image = plt.imread('df'+'.png')[:,:,3]\n",
    "    \n",
    "    Lx = image.shape[0]\n",
    "    Ly = image.shape[1]\n",
    "    pixels=[]\n",
    "    Ns=[]\n",
    "    E = np.logspace(0, 1, num=100, endpoint=False, base=2)\n",
    "    #E = [0.01,0.1,0.5,1,2,4,8,16,32]\n",
    "\n",
    "    for i in range(Lx):\n",
    "        for j in range(Ly):\n",
    "            if image[i,j] > 0:\n",
    "                pixels.append((i,j))\n",
    "\n",
    "    pixels=np.array(pixels)\n",
    "    \n",
    "    for eps in E:\n",
    "        Box, ejes = np.histogramdd(pixels, bins=(np.arange(0,Lx,eps),np.arange(0,Ly,eps)))\n",
    "        Ns.append(np.sum(Box>0))\n",
    "    fig2 = plt.figure()\n",
    "    plt.plot(np.log(E),np.log(Ns),'.')\n",
    "    plt.close(fig2)\n",
    "    sol = np.polyfit(np.log(E),np.log(Ns),1,full=True)\n",
    "    dF = -sol[0][0]\n",
    "    r = sol[1]\n",
    "    if r > 1:\n",
    "        return nan,nan\n",
    "    else:\n",
    "        return dF,r"
   ]
  },
  {
   "cell_type": "code",
   "execution_count": null,
   "metadata": {},
   "outputs": [],
   "source": [
    "if n == '': # Valor predeterminado de n\n",
    "    n=1000000"
   ]
  },
  {
   "cell_type": "markdown",
   "metadata": {},
   "source": [
    "### <h>"
   ]
  },
  {
   "cell_type": "code",
   "execution_count": null,
   "metadata": {},
   "outputs": [],
   "source": [
    "fractal = generate_fractal(n=int(n)) # Generamos el fractal mediante las transformaciones afines correspondientes"
   ]
  },
  {
   "cell_type": "markdown",
   "metadata": {},
   "source": [
    "#### Desplegar para ver cómo representar la imagen gráficamente"
   ]
  },
  {
   "cell_type": "code",
   "execution_count": null,
   "metadata": {},
   "outputs": [],
   "source": [
    "plt.plot(fractal[:,0], fractal[:,1],',',color='green')\n",
    "plt.title(name+r' $(D_f\\approx$'+str(format(FractalDimension(fractal[:,0], fractal[:,1])[0],'.2f'))+'$)$')\n",
    "plt.axis('off')\n",
    "plt.axis('equal')\n",
    "plt.savefig(name,dpi=500)"
   ]
  },
  {
   "cell_type": "markdown",
   "metadata": {},
   "source": [
    "# Resultado $\\Downarrow$"
   ]
  },
  {
   "cell_type": "code",
   "execution_count": null,
   "metadata": {},
   "outputs": [],
   "source": [
    "image = plt.imread(name+'.png') # Cargamos la imagen y la mostramos\n",
    "plt.axis('off')\n",
    "plt.imshow(image)\n",
    "plt.show()"
   ]
  }
 ],
 "metadata": {
  "kernelspec": {
   "display_name": "QuantumChaos",
   "language": "python",
   "name": "python3"
  },
  "language_info": {
   "codemirror_mode": {
    "name": "ipython",
    "version": 3
   },
   "file_extension": ".py",
   "mimetype": "text/x-python",
   "name": "python",
   "nbconvert_exporter": "python",
   "pygments_lexer": "ipython3",
   "version": "3.9.13"
  }
 },
 "nbformat": 4,
 "nbformat_minor": 2
}
